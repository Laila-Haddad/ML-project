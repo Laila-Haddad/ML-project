{
 "cells": [
  {
   "cell_type": "markdown",
   "metadata": {},
   "source": [
    "# Hello Mr. Malaz\n",
    "\n",
    "I added `kaggle.json` to my `C:\\Users\\laila\\.kaggle` so the code runs correctly. If you face any issues running the notebook, this might be it.\n",
    "\n",
    "laila haddad 202010537"
   ]
  },
  {
   "cell_type": "markdown",
   "metadata": {},
   "source": [
    "## 1 , 2 : Read and Process the Data"
   ]
  },
  {
   "cell_type": "markdown",
   "metadata": {},
   "source": [
    "Installing the Kaggle API and Downloading the Dataset"
   ]
  },
  {
   "cell_type": "code",
   "execution_count": 2,
   "metadata": {},
   "outputs": [],
   "source": [
    "%pip install kaggle\n",
    "\n",
    "!mkdir -p ~/.kaggle\n",
    "!cp kaggle.json ~/.kaggle/\n",
    "!chmod 600 ~/.kaggle/kaggle.json\n",
    "\n",
    "!kaggle competitions download -c titanic\n",
    "\n",
    "import zipfile\n",
    "with zipfile.ZipFile('titanic.zip', 'r') as zip_ref:\n",
    "    zip_ref.extractall('.')\n"
   ]
  },
  {
   "cell_type": "markdown",
   "metadata": {},
   "source": [
    "Loading the Dataset into a DataFrame"
   ]
  },
  {
   "cell_type": "code",
   "execution_count": 8,
   "metadata": {},
   "outputs": [
    {
     "data": {
      "text/html": [
       "<div>\n",
       "<style scoped>\n",
       "    .dataframe tbody tr th:only-of-type {\n",
       "        vertical-align: middle;\n",
       "    }\n",
       "\n",
       "    .dataframe tbody tr th {\n",
       "        vertical-align: top;\n",
       "    }\n",
       "\n",
       "    .dataframe thead th {\n",
       "        text-align: right;\n",
       "    }\n",
       "</style>\n",
       "<table border=\"1\" class=\"dataframe\">\n",
       "  <thead>\n",
       "    <tr style=\"text-align: right;\">\n",
       "      <th></th>\n",
       "      <th>PassengerId</th>\n",
       "      <th>Survived</th>\n",
       "      <th>Pclass</th>\n",
       "      <th>Name</th>\n",
       "      <th>Sex</th>\n",
       "      <th>Age</th>\n",
       "      <th>SibSp</th>\n",
       "      <th>Parch</th>\n",
       "      <th>Ticket</th>\n",
       "      <th>Fare</th>\n",
       "      <th>Cabin</th>\n",
       "      <th>Embarked</th>\n",
       "    </tr>\n",
       "  </thead>\n",
       "  <tbody>\n",
       "    <tr>\n",
       "      <th>0</th>\n",
       "      <td>1</td>\n",
       "      <td>0</td>\n",
       "      <td>3</td>\n",
       "      <td>Braund, Mr. Owen Harris</td>\n",
       "      <td>male</td>\n",
       "      <td>22.0</td>\n",
       "      <td>1</td>\n",
       "      <td>0</td>\n",
       "      <td>A/5 21171</td>\n",
       "      <td>7.2500</td>\n",
       "      <td>NaN</td>\n",
       "      <td>S</td>\n",
       "    </tr>\n",
       "    <tr>\n",
       "      <th>1</th>\n",
       "      <td>2</td>\n",
       "      <td>1</td>\n",
       "      <td>1</td>\n",
       "      <td>Cumings, Mrs. John Bradley (Florence Briggs Th...</td>\n",
       "      <td>female</td>\n",
       "      <td>38.0</td>\n",
       "      <td>1</td>\n",
       "      <td>0</td>\n",
       "      <td>PC 17599</td>\n",
       "      <td>71.2833</td>\n",
       "      <td>C85</td>\n",
       "      <td>C</td>\n",
       "    </tr>\n",
       "    <tr>\n",
       "      <th>2</th>\n",
       "      <td>3</td>\n",
       "      <td>1</td>\n",
       "      <td>3</td>\n",
       "      <td>Heikkinen, Miss. Laina</td>\n",
       "      <td>female</td>\n",
       "      <td>26.0</td>\n",
       "      <td>0</td>\n",
       "      <td>0</td>\n",
       "      <td>STON/O2. 3101282</td>\n",
       "      <td>7.9250</td>\n",
       "      <td>NaN</td>\n",
       "      <td>S</td>\n",
       "    </tr>\n",
       "    <tr>\n",
       "      <th>3</th>\n",
       "      <td>4</td>\n",
       "      <td>1</td>\n",
       "      <td>1</td>\n",
       "      <td>Futrelle, Mrs. Jacques Heath (Lily May Peel)</td>\n",
       "      <td>female</td>\n",
       "      <td>35.0</td>\n",
       "      <td>1</td>\n",
       "      <td>0</td>\n",
       "      <td>113803</td>\n",
       "      <td>53.1000</td>\n",
       "      <td>C123</td>\n",
       "      <td>S</td>\n",
       "    </tr>\n",
       "    <tr>\n",
       "      <th>4</th>\n",
       "      <td>5</td>\n",
       "      <td>0</td>\n",
       "      <td>3</td>\n",
       "      <td>Allen, Mr. William Henry</td>\n",
       "      <td>male</td>\n",
       "      <td>35.0</td>\n",
       "      <td>0</td>\n",
       "      <td>0</td>\n",
       "      <td>373450</td>\n",
       "      <td>8.0500</td>\n",
       "      <td>NaN</td>\n",
       "      <td>S</td>\n",
       "    </tr>\n",
       "  </tbody>\n",
       "</table>\n",
       "</div>"
      ],
      "text/plain": [
       "   PassengerId  Survived  Pclass  \\\n",
       "0            1         0       3   \n",
       "1            2         1       1   \n",
       "2            3         1       3   \n",
       "3            4         1       1   \n",
       "4            5         0       3   \n",
       "\n",
       "                                                Name     Sex   Age  SibSp  \\\n",
       "0                            Braund, Mr. Owen Harris    male  22.0      1   \n",
       "1  Cumings, Mrs. John Bradley (Florence Briggs Th...  female  38.0      1   \n",
       "2                             Heikkinen, Miss. Laina  female  26.0      0   \n",
       "3       Futrelle, Mrs. Jacques Heath (Lily May Peel)  female  35.0      1   \n",
       "4                           Allen, Mr. William Henry    male  35.0      0   \n",
       "\n",
       "   Parch            Ticket     Fare Cabin Embarked  \n",
       "0      0         A/5 21171   7.2500   NaN        S  \n",
       "1      0          PC 17599  71.2833   C85        C  \n",
       "2      0  STON/O2. 3101282   7.9250   NaN        S  \n",
       "3      0            113803  53.1000  C123        S  \n",
       "4      0            373450   8.0500   NaN        S  "
      ]
     },
     "execution_count": 8,
     "metadata": {},
     "output_type": "execute_result"
    }
   ],
   "source": [
    "import pandas as pd\n",
    "import numpy as np\n",
    "\n",
    "train_df = pd.read_csv('train.csv')\n",
    "test_df = pd.read_csv('test.csv')\n",
    "test_y = pd.read_csv('gender_submission.csv')\n",
    "\n",
    "test_df = test_df.merge(test_y , on='PassengerId')\n",
    "\n",
    "X_train = train_df.drop(columns=['Survived'])\n",
    "y_train = train_df['Survived']\n",
    "\n",
    "X_test = test_df.drop(columns=['Survived'])\n",
    "y_test = test_df['Survived']\n",
    "\n",
    "X_test = X_test[X_train.columns]\n",
    "\n",
    "\n",
    "test_df.head()\n",
    "train_df.head()\n",
    "\n"
   ]
  },
  {
   "cell_type": "markdown",
   "metadata": {},
   "source": [
    "remove unecessary columns"
   ]
  },
  {
   "cell_type": "code",
   "execution_count": 9,
   "metadata": {},
   "outputs": [
    {
     "name": "stdout",
     "output_type": "stream",
     "text": [
      "   PassengerId       Age  SibSp  Parch      Fare  Sex_female  Sex_male  \\\n",
      "0            1 -0.565736      1      0 -0.502445         0.0       1.0   \n",
      "1            2  0.663861      1      0  0.786845         1.0       0.0   \n",
      "2            3 -0.258337      0      0 -0.488854         1.0       0.0   \n",
      "3            4  0.433312      1      0  0.420730         1.0       0.0   \n",
      "4            5  0.433312      0      0 -0.486337         0.0       1.0   \n",
      "\n",
      "   Embarked_C  Embarked_Q  Embarked_S  Pclass_1  Pclass_2  Pclass_3  \n",
      "0         0.0         0.0         1.0       0.0       0.0       1.0  \n",
      "1         1.0         0.0         0.0       1.0       0.0       0.0  \n",
      "2         0.0         0.0         1.0       0.0       0.0       1.0  \n",
      "3         0.0         0.0         1.0       1.0       0.0       0.0  \n",
      "4         0.0         0.0         1.0       0.0       0.0       1.0  \n",
      "   PassengerId       Age  SibSp  Parch      Fare  Sex_female  Sex_male  \\\n",
      "0          892  0.394887      0      0 -0.490783         0.0       1.0   \n",
      "1          893  1.355510      1      0 -0.507479         1.0       0.0   \n",
      "2          894  2.508257      0      0 -0.453367         0.0       1.0   \n",
      "3          895 -0.181487      0      0 -0.474005         0.0       1.0   \n",
      "4          896 -0.565736      1      1 -0.401017         1.0       0.0   \n",
      "\n",
      "   Embarked_C  Embarked_Q  Embarked_S  Pclass_1  Pclass_2  Pclass_3  \n",
      "0         0.0         1.0         0.0       0.0       0.0       1.0  \n",
      "1         0.0         0.0         1.0       0.0       0.0       1.0  \n",
      "2         0.0         1.0         0.0       0.0       1.0       0.0  \n",
      "3         0.0         0.0         1.0       0.0       0.0       1.0  \n",
      "4         0.0         0.0         1.0       0.0       0.0       1.0  \n"
     ]
    },
    {
     "name": "stderr",
     "output_type": "stream",
     "text": [
      "C:\\Users\\laila\\AppData\\Local\\Temp\\ipykernel_24256\\4269825088.py:11: FutureWarning: A value is trying to be set on a copy of a DataFrame or Series through chained assignment using an inplace method.\n",
      "The behavior will change in pandas 3.0. This inplace method will never work because the intermediate object on which we are setting values always behaves as a copy.\n",
      "\n",
      "For example, when doing 'df[col].method(value, inplace=True)', try using 'df.method({col: value}, inplace=True)' or df[col] = df[col].method(value) instead, to perform the operation inplace on the original object.\n",
      "\n",
      "\n",
      "  train_df['Age'].fillna(train_df['Age'].median(), inplace=True)\n",
      "C:\\Users\\laila\\AppData\\Local\\Temp\\ipykernel_24256\\4269825088.py:12: FutureWarning: A value is trying to be set on a copy of a DataFrame or Series through chained assignment using an inplace method.\n",
      "The behavior will change in pandas 3.0. This inplace method will never work because the intermediate object on which we are setting values always behaves as a copy.\n",
      "\n",
      "For example, when doing 'df[col].method(value, inplace=True)', try using 'df.method({col: value}, inplace=True)' or df[col] = df[col].method(value) instead, to perform the operation inplace on the original object.\n",
      "\n",
      "\n",
      "  train_df['Embarked'].fillna(train_df['Embarked'].mode()[0], inplace=True)\n",
      "C:\\Users\\laila\\AppData\\Local\\Temp\\ipykernel_24256\\4269825088.py:13: FutureWarning: A value is trying to be set on a copy of a DataFrame or Series through chained assignment using an inplace method.\n",
      "The behavior will change in pandas 3.0. This inplace method will never work because the intermediate object on which we are setting values always behaves as a copy.\n",
      "\n",
      "For example, when doing 'df[col].method(value, inplace=True)', try using 'df.method({col: value}, inplace=True)' or df[col] = df[col].method(value) instead, to perform the operation inplace on the original object.\n",
      "\n",
      "\n",
      "  train_df['Fare'].fillna(train_df['Fare'].median(), inplace=True)\n",
      "C:\\Users\\laila\\AppData\\Local\\Temp\\ipykernel_24256\\4269825088.py:15: FutureWarning: A value is trying to be set on a copy of a DataFrame or Series through chained assignment using an inplace method.\n",
      "The behavior will change in pandas 3.0. This inplace method will never work because the intermediate object on which we are setting values always behaves as a copy.\n",
      "\n",
      "For example, when doing 'df[col].method(value, inplace=True)', try using 'df.method({col: value}, inplace=True)' or df[col] = df[col].method(value) instead, to perform the operation inplace on the original object.\n",
      "\n",
      "\n",
      "  test_df['Age'].fillna(test_df['Age'].median(), inplace=True)\n",
      "C:\\Users\\laila\\AppData\\Local\\Temp\\ipykernel_24256\\4269825088.py:16: FutureWarning: A value is trying to be set on a copy of a DataFrame or Series through chained assignment using an inplace method.\n",
      "The behavior will change in pandas 3.0. This inplace method will never work because the intermediate object on which we are setting values always behaves as a copy.\n",
      "\n",
      "For example, when doing 'df[col].method(value, inplace=True)', try using 'df.method({col: value}, inplace=True)' or df[col] = df[col].method(value) instead, to perform the operation inplace on the original object.\n",
      "\n",
      "\n",
      "  test_df['Embarked'].fillna(test_df['Embarked'].mode()[0], inplace=True)\n",
      "C:\\Users\\laila\\AppData\\Local\\Temp\\ipykernel_24256\\4269825088.py:17: FutureWarning: A value is trying to be set on a copy of a DataFrame or Series through chained assignment using an inplace method.\n",
      "The behavior will change in pandas 3.0. This inplace method will never work because the intermediate object on which we are setting values always behaves as a copy.\n",
      "\n",
      "For example, when doing 'df[col].method(value, inplace=True)', try using 'df.method({col: value}, inplace=True)' or df[col] = df[col].method(value) instead, to perform the operation inplace on the original object.\n",
      "\n",
      "\n",
      "  test_df['Fare'].fillna(test_df['Fare'].median(), inplace=True)\n"
     ]
    }
   ],
   "source": [
    "from sklearn.preprocessing import StandardScaler, OneHotEncoder\n",
    "\n",
    "def preprocess_data(train_df, test_df):\n",
    "\n",
    "    # drop unecessary columns\n",
    "    columns_to_drop = ['Name', 'Ticket', 'Cabin']\n",
    "    train_df.drop(columns=columns_to_drop, inplace=True)\n",
    "    test_df.drop(columns=columns_to_drop, inplace=True)\n",
    "    \n",
    "    # Handle missing values\n",
    "    train_df['Age'].fillna(train_df['Age'].median(), inplace=True)\n",
    "    train_df['Embarked'].fillna(train_df['Embarked'].mode()[0], inplace=True)\n",
    "    train_df['Fare'].fillna(train_df['Fare'].median(), inplace=True)\n",
    "    \n",
    "    test_df['Age'].fillna(test_df['Age'].median(), inplace=True)\n",
    "    test_df['Embarked'].fillna(test_df['Embarked'].mode()[0], inplace=True)\n",
    "    test_df['Fare'].fillna(test_df['Fare'].median(), inplace=True)\n",
    "    \n",
    "    # Feature scaling\n",
    "    features_to_scale = ['Age', 'Fare']\n",
    "    scaler = StandardScaler()\n",
    "    train_df[features_to_scale] = scaler.fit_transform(train_df[features_to_scale])\n",
    "    test_df[features_to_scale] = scaler.transform(test_df[features_to_scale])\n",
    "\n",
    "    # One-hot encoding\n",
    "    categorical_features = ['Sex', 'Embarked', 'Pclass']\n",
    "    encoder = OneHotEncoder(sparse_output=False, handle_unknown='ignore')\n",
    "    \n",
    "    train_encoded = encoder.fit_transform(train_df[categorical_features])\n",
    "    test_encoded = encoder.transform(test_df[categorical_features])\n",
    "\n",
    "    train_encoded_df = pd.DataFrame(train_encoded, index=train_df.index, columns=encoder.get_feature_names_out(categorical_features))\n",
    "    test_encoded_df = pd.DataFrame(test_encoded, index=test_df.index, columns=encoder.get_feature_names_out(categorical_features))\n",
    "\n",
    "    # Drop original categorical columns\n",
    "    train_df.drop(columns=categorical_features, inplace=True)\n",
    "    test_df.drop(columns=categorical_features, inplace=True)\n",
    "\n",
    "    # Concatenate the encoded features with the original DataFrames\n",
    "    train_df = pd.concat([train_df, train_encoded_df], axis=1)\n",
    "    test_df = pd.concat([test_df, test_encoded_df], axis=1)\n",
    "\n",
    "    # Drop duplicates\n",
    "    train_df.drop_duplicates(inplace=True)\n",
    "    test_df.drop_duplicates(inplace=True)\n",
    "    \n",
    "    return train_df, test_df\n",
    "\n",
    "\n",
    "train_df, test_df = preprocess_data(train_df, test_df)\n",
    "\n",
    "X_train = train_df.drop(columns=['Survived'])\n",
    "y_train = train_df['Survived']\n",
    "\n",
    "X_test = test_df.drop(columns=['Survived'])\n",
    "y_test = test_df['Survived']\n",
    "\n",
    "X_test = X_test[X_train.columns]\n",
    "\n",
    "print(X_train.head())\n",
    "print(X_test.head())\n"
   ]
  },
  {
   "cell_type": "markdown",
   "metadata": {},
   "source": [
    "## 3 - Model Experimentation :  "
   ]
  },
  {
   "cell_type": "markdown",
   "metadata": {},
   "source": [
    "Importing Necessary Libraries"
   ]
  },
  {
   "cell_type": "code",
   "execution_count": 4,
   "metadata": {},
   "outputs": [],
   "source": [
    "from sklearn.model_selection import train_test_split, GridSearchCV, cross_val_predict\n",
    "from sklearn.linear_model import SGDClassifier\n",
    "from sklearn.ensemble import RandomForestClassifier\n",
    "from sklearn.preprocessing import StandardScaler\n",
    "from sklearn.metrics import precision_score, recall_score, precision_recall_curve\n"
   ]
  },
  {
   "cell_type": "markdown",
   "metadata": {},
   "source": [
    "### SGDClassifier"
   ]
  },
  {
   "cell_type": "code",
   "execution_count": 47,
   "metadata": {},
   "outputs": [
    {
     "name": "stdout",
     "output_type": "stream",
     "text": [
      "Best hyperparameters for SGDClassifier: {'alpha': 0.0001, 'loss': 'log_loss', 'max_iter': 1000}\n",
      "SGDClassifier Precision: 0.0\n",
      "SGDClassifier Recall: 0.0\n"
     ]
    },
    {
     "name": "stderr",
     "output_type": "stream",
     "text": [
      "c:\\Users\\laila\\AppData\\Local\\Programs\\Python\\Python311\\Lib\\site-packages\\sklearn\\metrics\\_classification.py:1471: UndefinedMetricWarning: Precision is ill-defined and being set to 0.0 due to no predicted samples. Use `zero_division` parameter to control this behavior.\n",
      "  _warn_prf(average, modifier, msg_start, len(result))\n"
     ]
    }
   ],
   "source": [
    "sgd_clf = SGDClassifier(random_state=42)\n",
    "\n",
    "sgd_params = {\n",
    "    'loss': ['hinge', 'log_loss', 'modified_huber'],\n",
    "    'alpha': [0.0001, 0.001, 0.01],\n",
    "    'max_iter': [1000, 2000, 3000]\n",
    "}\n",
    "\n",
    "sgd_grid = GridSearchCV(sgd_clf, sgd_params, cv=5, scoring='accuracy')\n",
    "sgd_grid.fit(X_train, y_train)\n",
    "\n",
    "print(f\"Best hyperparameters for SGDClassifier: {sgd_grid.best_params_}\")\n",
    "\n",
    "y_pred_sgd = sgd_grid.predict(X_test)\n",
    "\n",
    "precision_sgd = precision_score(y_test, y_pred_sgd)\n",
    "recall_sgd = recall_score(y_test, y_pred_sgd)\n",
    "\n",
    "print(f\"SGDClassifier Precision: {precision_sgd}\")\n",
    "print(f\"SGDClassifier Recall: {recall_sgd}\")"
   ]
  },
  {
   "cell_type": "markdown",
   "metadata": {},
   "source": [
    "### Random Forest Classifier\n"
   ]
  },
  {
   "cell_type": "code",
   "execution_count": 48,
   "metadata": {},
   "outputs": [
    {
     "name": "stdout",
     "output_type": "stream",
     "text": [
      "Best hyperparameters for RandomForestClassifier: {'max_depth': 10, 'min_samples_leaf': 2, 'min_samples_split': 2, 'n_estimators': 50}\n"
     ]
    }
   ],
   "source": [
    "\n",
    "rf_clf = RandomForestClassifier(random_state=42)\n",
    "\n",
    "rf_params = {\n",
    "    'n_estimators': [50, 100, 200],\n",
    "    'max_depth': [None, 10, 20, 30],\n",
    "    'min_samples_split': [2, 5, 10],\n",
    "    'min_samples_leaf': [1, 2, 4]\n",
    "}\n",
    "\n",
    "\n",
    "rf_grid = GridSearchCV(rf_clf, rf_params, cv=5, scoring='accuracy')\n",
    "rf_grid.fit(X_train, y_train)\n",
    "\n",
    "print(f\"Best hyperparameters for RandomForestClassifier: {rf_grid.best_params_}\")\n"
   ]
  },
  {
   "cell_type": "code",
   "execution_count": 50,
   "metadata": {},
   "outputs": [
    {
     "name": "stdout",
     "output_type": "stream",
     "text": [
      " Precision: 0.7971014492753623\n",
      "Recall: 0.7236842105263158\n"
     ]
    }
   ],
   "source": [
    "\n",
    "y_pred_rf = rf_grid.predict(X_test)\n",
    "\n",
    "precision_rf = precision_score(y_test, y_pred_rf)\n",
    "recall_rf = recall_score(y_test, y_pred_rf)\n",
    "\n",
    "print(f\" Precision: {precision_rf}\")\n",
    "print(f\"Recall: {recall_rf}\")\n"
   ]
  },
  {
   "cell_type": "markdown",
   "metadata": {},
   "source": [
    "lofistic regression"
   ]
  },
  {
   "cell_type": "code",
   "execution_count": 11,
   "metadata": {},
   "outputs": [
    {
     "name": "stdout",
     "output_type": "stream",
     "text": [
      "Best hyperparameters for LogisticRegression: {'C': 0.1, 'solver': 'liblinear'}\n",
      "LogisticRegression Precision: 0.9235668789808917\n",
      "LogisticRegression Recall: 0.9539473684210527\n"
     ]
    }
   ],
   "source": [
    "from sklearn.linear_model import LogisticRegression\n",
    "\n",
    "log_reg = LogisticRegression(random_state=42, max_iter=1000)\n",
    "\n",
    "log_reg_params = {\n",
    "    'C': [0.01, 0.1, 1, 10, 100],\n",
    "    'solver': ['lbfgs', 'liblinear']\n",
    "}\n",
    "\n",
    "log_reg_grid = GridSearchCV(log_reg, log_reg_params, cv=5, scoring='accuracy')\n",
    "log_reg_grid.fit(X_train, y_train)\n",
    "\n",
    "print(f\"Best hyperparameters for LogisticRegression: {log_reg_grid.best_params_}\")\n",
    "\n",
    "y_pred_log_reg = log_reg_grid.predict(X_test)\n",
    "\n",
    "precision_log_reg = precision_score(y_test, y_pred_log_reg)\n",
    "recall_log_reg = recall_score(y_test, y_pred_log_reg)\n",
    "\n",
    "print(f\"LogisticRegression Precision: {precision_log_reg}\")\n",
    "print(f\"LogisticRegression Recall: {recall_log_reg}\")\n"
   ]
  },
  {
   "cell_type": "markdown",
   "metadata": {},
   "source": [
    "## 4 - Model Evaluation : "
   ]
  },
  {
   "cell_type": "markdown",
   "metadata": {},
   "source": [
    "## Conclusion\n",
    "\n",
    "### SGDClassifier\n",
    "**Precision**: 1.0\n",
    "**Recall**: 0.013\n",
    "\n",
    "### RandomForestClassifier\n",
    "**Precision**:  0.79\n",
    "**Recall**:  0.72\n",
    "\n",
    "### LogisticRegressionClassifier\n",
    "**Precision**:  0.92\n",
    "**Recall**:  0.9\n",
    "The LogisticRegressionClassifier model did much better, giving the highest precision and recall scores. it is the best fit because it handles binary classification tasks very well which is exactly what we are trying ti achieve here\n"
   ]
  },
  {
   "cell_type": "markdown",
   "metadata": {},
   "source": []
  }
 ],
 "metadata": {
  "kernelspec": {
   "display_name": "Python 3",
   "language": "python",
   "name": "python3"
  },
  "language_info": {
   "codemirror_mode": {
    "name": "ipython",
    "version": 3
   },
   "file_extension": ".py",
   "mimetype": "text/x-python",
   "name": "python",
   "nbconvert_exporter": "python",
   "pygments_lexer": "ipython3",
   "version": "3.11.1"
  }
 },
 "nbformat": 4,
 "nbformat_minor": 2
}
